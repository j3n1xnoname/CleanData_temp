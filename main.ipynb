{
 "cells": [
  {
   "cell_type": "code",
   "execution_count": 1399,
   "id": "bad66f47-5124-4241-bce5-5581927a2d66",
   "metadata": {},
   "outputs": [],
   "source": [
    "import pandas as pd\n",
    "import numpy as np\n",
    "import json"
   ]
  },
  {
   "cell_type": "code",
   "execution_count": 1400,
   "id": "a17c4ae8-95fc-4377-acbd-ad6dc230db79",
   "metadata": {},
   "outputs": [],
   "source": [
    "df = pd.read_csv(\"shop_users.csv\")\n",
    "\n",
    "df_copy = df.copy()\n",
    "\n",
    "columns = ['Unnamed: 0', 'common_count', 'is_closed', 'home_town', 'relation']"
   ]
  },
  {
   "cell_type": "code",
   "execution_count": 1401,
   "id": "09a66344-bda2-4f9e-badb-fdf95108e479",
   "metadata": {},
   "outputs": [],
   "source": [
    "df_copy.drop(columns=columns, inplace=True)"
   ]
  },
  {
   "cell_type": "code",
   "execution_count": 1402,
   "id": "2ece511b-bbf0-4dc8-8659-70041b39c35c",
   "metadata": {},
   "outputs": [],
   "source": [
    "df_copy.drop_duplicates(inplace=True)"
   ]
  },
  {
   "cell_type": "code",
   "execution_count": 1403,
   "id": "d5511168-32ef-4852-b2f6-376d6590bac7",
   "metadata": {},
   "outputs": [],
   "source": [
    "df_copy.dropna(subset=[\"games\", \"costs\"], inplace=True)"
   ]
  },
  {
   "cell_type": "code",
   "execution_count": 1404,
   "id": "990db758-590e-4fe9-affb-0da97bdc6683",
   "metadata": {},
   "outputs": [],
   "source": [
    "df_copy.reset_index(inplace=True)"
   ]
  },
  {
   "cell_type": "code",
   "execution_count": 1405,
   "id": "1b4dbdb4-ad06-4ba4-97df-a1f222548479",
   "metadata": {},
   "outputs": [],
   "source": [
    "def text_to_json(text):\n",
    "  if pd.isna(text):\n",
    "    result = 'Город не указан'\n",
    "  else:\n",
    "    result = json.loads(text.replace(\"'\", '\"'))['title']\n",
    "  return result"
   ]
  },
  {
   "cell_type": "code",
   "execution_count": 1406,
   "id": "d37a4c27-ff73-416f-a87a-01b05ff389bc",
   "metadata": {},
   "outputs": [],
   "source": [
    "df_copy[\"city\"] = df_copy[\"city\"].apply(text_to_json)"
   ]
  },
  {
   "cell_type": "code",
   "execution_count": 1407,
   "id": "402e37ff-e9ab-48c5-85cd-5c2a30f27d95",
   "metadata": {},
   "outputs": [],
   "source": [
    "df_copy.drop(labels=[3334, 3335, 3336, 3337], axis=0, inplace=True)"
   ]
  },
  {
   "cell_type": "code",
   "execution_count": 1408,
   "id": "40e3a644-5a85-45cd-af27-94f9d7d34125",
   "metadata": {},
   "outputs": [],
   "source": [
    "df_copy[\"country\"] = df_copy[\"country\"].apply(lambda x: eval(x)[\"title\"])"
   ]
  },
  {
   "cell_type": "code",
   "execution_count": 1409,
   "id": "7009c9fa-0781-4e9e-883a-69209082803c",
   "metadata": {},
   "outputs": [],
   "source": [
    "def text_to_json2(text):\n",
    "    if pd.isna(text):\n",
    "        result = np.nan\n",
    "    else:\n",
    "        result = json.loads(text.replace(\"'\", '\"'))[\"time\"]\n",
    "    return result\n",
    "        "
   ]
  },
  {
   "cell_type": "code",
   "execution_count": 1410,
   "id": "f75a1314-0f23-4e77-9341-105b3ba94ac6",
   "metadata": {},
   "outputs": [],
   "source": [
    "df_copy[\"last_seen\"] = df_copy[\"last_seen\"].apply(text_to_json2)"
   ]
  },
  {
   "cell_type": "code",
   "execution_count": 1411,
   "id": "2b207eac-4e91-4b57-b314-a2caabd8c89c",
   "metadata": {},
   "outputs": [],
   "source": [
    "def costs_func(costs_currency):\n",
    "    return costs_currency.replace('\"', \"\").replace(\"{\", \"\").replace(\"}\", \"\").replace(\"'\", \"\").split(\",\")[0].split()[1]\n",
    "\n",
    "def currency_func(costs_currency):\n",
    "    return costs_currency.replace('\"', \"\").replace(\"{\", \"\").replace(\"}\", \"\").replace(\"'\", \"\").split(\",\")[1].strip().split()[1]\n",
    "    \n",
    "    "
   ]
  },
  {
   "cell_type": "code",
   "execution_count": 1412,
   "id": "9f237fb3-61b7-4618-a1a4-831045db7e27",
   "metadata": {},
   "outputs": [],
   "source": [
    "df_copy[\"costs_sum\"] = df_copy.costs.apply(costs_func)\n",
    "df_copy['currency'] = df_copy.costs.apply(currency_func)"
   ]
  },
  {
   "cell_type": "code",
   "execution_count": 1413,
   "id": "dd34eb02-dd50-44f8-8d30-9eb48caf3f63",
   "metadata": {},
   "outputs": [],
   "source": [
    "df_copy.drop(labels=\"costs\", axis=1, inplace=True)"
   ]
  },
  {
   "cell_type": "code",
   "execution_count": 1414,
   "id": "dcd8e109-03bf-49ae-9a46-3b3928178ddb",
   "metadata": {},
   "outputs": [],
   "source": [
    "df_copy.rename(columns={\"costs_sum\": \"costs\"}, inplace=True)"
   ]
  },
  {
   "cell_type": "code",
   "execution_count": 1415,
   "id": "5c4c732c-e30b-47bc-ba47-ca904d41acb0",
   "metadata": {},
   "outputs": [],
   "source": [
    "def games_func(games):\n",
    "    return [games[\"name\"] for games in eval(games)]"
   ]
  },
  {
   "cell_type": "code",
   "execution_count": 1416,
   "id": "7254f0d4-752b-4316-baf2-00c45429de02",
   "metadata": {},
   "outputs": [],
   "source": [
    "df_copy['games_clean'] = df_copy['games'].apply(games_func)"
   ]
  },
  {
   "cell_type": "code",
   "execution_count": 1417,
   "id": "6246db3a-f03d-4a03-9dc4-f7d0a12de0cb",
   "metadata": {},
   "outputs": [],
   "source": [
    "df_copy.drop(columns=\"games\", inplace=True)"
   ]
  },
  {
   "cell_type": "code",
   "execution_count": 1418,
   "id": "e0037eb4-4630-4577-b66c-0982f8213d34",
   "metadata": {},
   "outputs": [],
   "source": [
    "df_copy.rename(columns={\"games_clean\": \"games\"}, inplace=True)"
   ]
  },
  {
   "cell_type": "code",
   "execution_count": 1419,
   "id": "58a90891-ad3e-4346-8b3f-d771c4c79dae",
   "metadata": {},
   "outputs": [],
   "source": [
    "df_copy.bdate = pd.to_datetime(df_copy.bdate, format=\"%d.%m.%Y\")"
   ]
  },
  {
   "cell_type": "code",
   "execution_count": 1420,
   "id": "01774d10-2a47-471c-bae2-a636ebb804f3",
   "metadata": {},
   "outputs": [],
   "source": [
    "df_copy.last_seen = pd.to_datetime(df_copy.last_seen, unit=\"s\", origin=\"unix\")"
   ]
  },
  {
   "cell_type": "code",
   "execution_count": 1421,
   "id": "889a83af-5995-48e4-b8b5-07db8ffb2b4a",
   "metadata": {},
   "outputs": [],
   "source": [
    "df_copy.last_seen = df_copy.last_seen.dt.strftime('%d.%m.%Y')"
   ]
  },
  {
   "cell_type": "code",
   "execution_count": 1422,
   "id": "dbc09b2e-49d8-45ad-9ff5-e237f6d918ce",
   "metadata": {},
   "outputs": [],
   "source": [
    "df_copy.followers_count = df_copy.followers_count.astype('Int64')"
   ]
  },
  {
   "cell_type": "code",
   "execution_count": 1423,
   "id": "73157dcf-163a-4e17-a92a-c88c60806278",
   "metadata": {},
   "outputs": [],
   "source": [
    "df_copy.costs = pd.to_numeric(df_copy.costs, downcast='float')"
   ]
  },
  {
   "cell_type": "code",
   "execution_count": 1424,
   "id": "0dbebf5a-efb1-44e9-a744-d77880e17c3b",
   "metadata": {},
   "outputs": [],
   "source": [
    "df_copy[\"age\"] = pd.Timestamp.today().year - df_copy.bdate.apply(lambda x: x.year)"
   ]
  },
  {
   "cell_type": "code",
   "execution_count": 1425,
   "id": "1a342ae3-a759-4377-8599-214e49ec8a36",
   "metadata": {},
   "outputs": [],
   "source": [
    "df_copy.drop(columns=\"bdate\", inplace=True)"
   ]
  },
  {
   "cell_type": "code",
   "execution_count": 1426,
   "id": "6be2339a-a69d-4e29-b179-cd31bbb59487",
   "metadata": {},
   "outputs": [
    {
     "data": {
      "text/plain": [
       "array(['RUR', 'USD', 'KZT', 'EUR'], dtype=object)"
      ]
     },
     "execution_count": 1426,
     "metadata": {},
     "output_type": "execute_result"
    }
   ],
   "source": [
    "df_copy.currency.unique()"
   ]
  },
  {
   "cell_type": "code",
   "execution_count": 1427,
   "id": "4131cecd-b0a1-4ae0-82c2-d5d411acffc6",
   "metadata": {},
   "outputs": [],
   "source": [
    "rates = dict(RUR=1, USD=100, EUR=106.30, KZT=5.18)"
   ]
  },
  {
   "cell_type": "code",
   "execution_count": 1428,
   "id": "cc71a76b-7aab-49a6-8eff-dd83a865176f",
   "metadata": {},
   "outputs": [],
   "source": [
    "df_copy[\"costs_to_rur\"] = df_copy[\"currency\"].map(rates) * df_copy[\"costs\"]"
   ]
  },
  {
   "cell_type": "code",
   "execution_count": 1429,
   "id": "e0b4c4ef-daf7-4d10-840f-5224e910ed7f",
   "metadata": {},
   "outputs": [],
   "source": [
    "df_copy.drop(columns=[\"costs\", \"currency\"], inplace=True)"
   ]
  },
  {
   "cell_type": "code",
   "execution_count": 1430,
   "id": "6582b72a-ce41-453c-b53a-fb87bb9bab33",
   "metadata": {},
   "outputs": [],
   "source": [
    "sex_dict = {1: \"женский\", 2: \"мужской\", 0: \"не указан\"}\n",
    "df_copy.sex = df_copy.sex.apply(lambda x: sex_dict[x])"
   ]
  },
  {
   "cell_type": "code",
   "execution_count": 1431,
   "id": "04132f8c-d969-4a53-844b-f31bd1e2592e",
   "metadata": {},
   "outputs": [],
   "source": [
    "df_copy.city = df_copy.city.str.lower()"
   ]
  },
  {
   "cell_type": "code",
   "execution_count": 1432,
   "id": "d59a51b2-c27a-4ccd-9217-4925cd8cac31",
   "metadata": {},
   "outputs": [],
   "source": [
    "df_copy.loc[df_copy.city == 'moscow', 'city'] = 'москва'\n",
    "df_copy.loc[df_copy.city.str.contains('petersburg'), 'city'] = 'санкт-петербург'"
   ]
  },
  {
   "cell_type": "code",
   "execution_count": 1433,
   "id": "4f4e37fe-a872-485e-a05f-168a7b2ca723",
   "metadata": {},
   "outputs": [],
   "source": [
    "df_copy.country = df_copy.country.str.lower()"
   ]
  },
  {
   "cell_type": "code",
   "execution_count": 1434,
   "id": "23fd10de-f24b-481a-9f3c-727ad4a02c22",
   "metadata": {},
   "outputs": [],
   "source": [
    "columns = ['id', 'age', 'sex', 'city', 'country', 'followers_count', 'last_seen', 'costs_to_rur', 'games']\n",
    "df_copy = df_copy[columns]"
   ]
  },
  {
   "cell_type": "code",
   "execution_count": 1435,
   "id": "84bd7538-2048-42fb-b56c-bfabe7581bcd",
   "metadata": {},
   "outputs": [],
   "source": [
    "df_games = df_copy.explode(\"games\", ignore_index=True)"
   ]
  },
  {
   "cell_type": "code",
   "execution_count": 1436,
   "id": "028a016b-9332-4e2d-a703-c328a219c4a2",
   "metadata": {},
   "outputs": [],
   "source": [
    "df_games.to_csv(\"df_games.csv\", index=False)"
   ]
  }
 ],
 "metadata": {
  "kernelspec": {
   "display_name": "Python 3 (ipykernel)",
   "language": "python",
   "name": "python3"
  },
  "language_info": {
   "codemirror_mode": {
    "name": "ipython",
    "version": 3
   },
   "file_extension": ".py",
   "mimetype": "text/x-python",
   "name": "python",
   "nbconvert_exporter": "python",
   "pygments_lexer": "ipython3",
   "version": "3.12.7"
  }
 },
 "nbformat": 4,
 "nbformat_minor": 5
}
